{
    "cells": [
        {
            "cell_type": "markdown",
            "metadata": {},
            "source": [
                "<img style=\"float: left;\" src=\"earth-lab-logo-rgb.png\" width=\"150\" height=\"150\" />\n",
                "\n",
                "# Earth Analytics Education - Bootcamp Course Fall 2020"
            ]
        },
        {
            "cell_type": "markdown",
            "metadata": {},
            "source": [
                "### Important !! \n",
                "Before you turn in your assignment, make sure to run the entire notebook with a fresh kernel. To do this:\n",
                "\n",
                "* First, **restart the kernel** (in the menubar, select Kernel$\\rightarrow$Restart & Run All) and then \n",
                "\n",
                "In the cells below you will see the following\n",
                "For each code cell, you will replace the `raise NotImplementedError()` code with your code that addresses the activity challenge. \n",
                "```\n",
                "# YOUR CODE HERE\n",
                "raise NotImplementedError()\n",
                "```\n",
                "\n",
                "\n",
                "Any open ended questions will have a \"YOUR ANSWER HERE\" within a markdown cell. Replace that text with your answer also formatted using Markdown."
            ]
        },
        {
            "cell_type": "markdown",
            "metadata": {},
            "source": [
                "---"
            ]
        },
        {
            "cell_type": "markdown",
            "metadata": {
                "deletable": false,
                "editable": false,
                "nbgrader": {
                    "cell_type": "markdown",
                    "checksum": "bc4446ffff4880a6edbce61fe35ed111",
                    "grade": false,
                    "grade_id": "hw-instructions",
                    "locked": true,
                    "schema_version": 3,
                    "solution": false
                }
            },
            "source": [
                "# Week 4 Homework Template\n",
                "\n",
                "To complete assignment 4, be sure you have reviewed Chapter 1 from the <a href=\"https://www.earthdatascience.org/courses/scientists-guide-to-plotting-data-in-python/\" target=\"_blank\">Scientist's Guide to Plotting Data in Python</a> online textbook, which introduces plotting in Python using matplotlib.   \n",
                "\n",
                "**Read the instructions for each question carefully to successfully complete the required tasks.**\n",
                "\n",
                "\n",
                "## PEP 8 Syntax and Clean Code\n",
                "\n",
                "Be sure to follow PEP 8 syntax guidelines as your write your code. These guidelines include the following:\n",
                "* Use clear and expresssive variable names\n",
                "* Organize your code to support readability\n",
                "* Follow PEP 8 standards for code line length and spacing \n",
                "* Use comments sparingly to document important steps in your code\n",
                "* Finally, use the `autopep8` tool as a check to apply PEP 8 syntax throughout your notebook\n",
                "\n",
                "IMPORTANT: the `autopep8` tool will not fix all PEP 8 syntax issues but it \n",
                "will fix many of them. Be sure to double check your code prior to submitting\n",
                "it!\n",
                "\n",
                "If you need a reminder about what PEP 8 is, read our <a href=\"https://www.earthdatascience.org/courses/intro-to-earth-data-science/write-clean-expressive-code/intro-to-clean-code/python-pep-8-style-guide/\" target=\"_blank\">online textbook page on PEP 8 </a>.\n",
                "\n",
                "\n",
                "## About the Assignment Data\n",
                "\n",
                "For this assignment, you will use summarized data on fire occurrence in California from 2000 to 2015 provided by <a href=\"https://www.fs.usda.gov/rds/archive/Product/RDS-2013-0009.4/\" target=\"_blank\">the United States Forest Service</a>. These data show the total number of annual fires and the mean size.\n"
            ]
        },
        {
            "cell_type": "code",
            "execution_count": 1,
            "metadata": {
                "deletable": false,
                "editable": false,
                "nbgrader": {
                    "cell_type": "code",
                    "checksum": "932a947b6f27ad9afa0f35f1d736a301",
                    "grade": false,
                    "grade_id": "core-imports",
                    "locked": true,
                    "schema_version": 3,
                    "solution": false
                }
            },
            "outputs": [],
            "source": [
                "# DO NOT MODIFY THIS CELL\n",
                "# Core imports needed for grading\n",
                "import matplotcheck.notebook as nb\n",
                "import matplotcheck.timeseries as ts\n",
                "from matplotcheck.base import PlotTester"
            ]
        },
        {
            "cell_type": "markdown",
            "metadata": {
                "deletable": false,
                "editable": false,
                "nbgrader": {
                    "cell_type": "markdown",
                    "checksum": "bb886cab0fd9d91667682eb3ca3b22cb",
                    "grade": false,
                    "grade_id": "question-student-imports",
                    "locked": true,
                    "schema_version": 3,
                    "solution": false
                }
            },
            "source": [
                "<div class=\"alert-info\" markdown=\"1\">\n",
                "\n",
                "## Import Python Packages (4 points)\n",
                "\n",
                "In the cell below, replace `raise NotImplementedError()` with your code to\n",
                "\n",
                "1. import a package and module needed to create plots.\n",
                "also import the following packages:\n",
                "2. import the os package: `import os` \n",
                "3. import pandas: `import pandas as pd`\n",
                "4. import earthpy: `import earthpy as et`\n",
                "\n",
                "The test below will check to see that you imported os and pandas.\n",
                "</div>"
            ]
        },
        {
            "cell_type": "code",
            "execution_count": 2,
            "metadata": {
                "deletable": false,
                "nbgrader": {
                    "cell_type": "code",
                    "checksum": "20489880accefdb27a2f10ca8cc97835",
                    "grade": false,
                    "grade_id": "student-imports-answer",
                    "locked": false,
                    "schema_version": 3,
                    "solution": true,
                    "task": false
                }
            },
            "outputs": [],
            "source": [
                "# YOUR CODE HERE\n",
                "import os\n",
                "import matplotlib.pyplot as plt\n",
                "import pandas as pd\n",
                "import earthpy as et"
            ]
        },
        {
            "cell_type": "code",
            "execution_count": 3,
            "metadata": {
                "deletable": false,
                "editable": false,
                "nbgrader": {
                    "cell_type": "code",
                    "checksum": "b5d19a954e7a10374bd8843b7e001057",
                    "grade": true,
                    "grade_id": "cell-5a9fbb51cd646600",
                    "locked": true,
                    "points": 4,
                    "schema_version": 3,
                    "solution": false,
                    "task": false
                }
            },
            "outputs": [
                {
                    "name": "stdout",
                    "output_type": "stream",
                    "text": [
                        "Score! Pandas has been imported as a pd!\n",
                        "Nice! matplotlib.pyplot has been imported as plt!\n",
                        "Great work! The os module has imported correctly!\n",
                        "Great work! The earthpy package has imported correctly!\n",
                        "You recieved 4 out of 4 points.\n"
                    ]
                },
                {
                    "data": {
                        "text/plain": [
                            "4"
                        ]
                    },
                    "execution_count": 3,
                    "metadata": {},
                    "output_type": "execute_result"
                }
            ],
            "source": [
                "# DO NOT MODIFY THIS CELL\n",
                "# This cell will ensure that you imported the plotting package and pandas correctly\n",
                "\n",
                "# Creating total points\n",
                "import_answer_points = 0\n",
                "# test that both modules imported - use duck typing\n",
                "try:\n",
                "    pd.NA\n",
                "    print(\"Score! Pandas has been imported as a pd!\")\n",
                "    import_answer_points += 1\n",
                "except NameError:\n",
                "    print(\"Pandas has not been imported as a pd, please make sure to import is properly.\")\n",
                "\n",
                "try:\n",
                "    plt.show()\n",
                "    print(\"Nice! matplotlib.pyplot has been imported as plt!\")\n",
                "    import_answer_points += 1\n",
                "except NameError:\n",
                "    print(\"matplotlib.pyplot has not been imported as plt, please make sure to import is properly.\")\n",
                "    \n",
                "try:\n",
                "    os.getcwd()\n",
                "    print(\"Great work! The os module has imported correctly!\")\n",
                "    import_answer_points += 1\n",
                "except NameError:\n",
                "    print(\"Oops make sure that the os package is imported.\")\n",
                "    \n",
                "try:\n",
                "    data = et.io\n",
                "    print(\"Great work! The earthpy package has imported correctly!\")\n",
                "    import_answer_points += 1\n",
                "except NameError:\n",
                "    print(\"Oops make sure that the earthpy package using the alias et.\")\n",
                "\n",
                "print(\"You recieved {} out of 4 points.\".format(import_answer_points))\n",
                "import_answer_points\n"
            ]
        },
        {
            "cell_type": "markdown",
            "metadata": {
                "deletable": false,
                "editable": false,
                "nbgrader": {
                    "cell_type": "markdown",
                    "checksum": "622816feb08499213876aa0928558658",
                    "grade": false,
                    "grade_id": "question-calc-variables",
                    "locked": true,
                    "schema_version": 3,
                    "solution": false,
                    "task": false
                }
            },
            "source": [
                "<div class=\"alert-info\" markdown=\"1\">\n",
                "\n",
                "## Open the Fire Data (5 points)\n",
                "\n",
                "You can download file needed to complete this task using the earthpy package as follows:\n",
                "\n",
                "`et.data.get_data(url=\"url-here\")`\n",
                "\n",
                "by default earthpy will:\n",
                "\n",
                "* create an `~/earth-analytics/data` directory in your home directory that you will use to process your data all semester.\n",
                "* Download the data and unzip (if it's compressed) into an `~/earth-analytics/data/earthpy-downloads/` directory.\n",
                "\n",
                "In the cell below, complete the following task:\n",
                "\n",
                "1.  Download the `usda-fire-data.csv` using the following url: `https://ndownloader.figshare.com/files/24649844`\n",
                "2.  Set your working directory to the `earth-analytics/data` directory using the following syntax:\n",
                "\n",
                "`os.chdir(os.path.join(et.io.HOME, 'earth-analytics', 'data'))`\n",
                "\n",
                "3 Open the `usda-fire-data.csv` file using pandas `read_csv()` and assign the output data to a variable (be sure the variable name is expressive!).\n",
                "\n",
                "At the end of the cell, call the variable like to ensure that the output prints\n",
                "in your notebook. The last line of your cell should look something like this:\n",
                "\n",
                "`data_frame_variable_name`\n",
                "\n",
                "The code will look something like the example below (except your variable names will be more expressive!_:\n",
                "\n",
                "```python\n",
                "# Download the data - be sure to fix the url!\n",
                "et.data.get_data(url=\"url-here\")\n",
                "# Set your working directory\n",
                "os.chdir(os.path.join(et.io.HOME, 'earth-analytics', 'data'))\n",
                "\n",
                "# Open up your csv file using pandas\n",
                "# First set the file path to the csv you downloaded above - \n",
                "csv_path = os.path.join(\"earthpy-downloads\", \"usda-fire-data.csv\")\n",
                "# Then open up the file using pandas\n",
                "data_frame_variable_name = pd.read_csv(path-to-file-here)\n",
                "data_frame_variable_name\n",
                "```\n",
                "\n",
                "### Tips:\n",
                "1. You will learn more about pandas, directories and file paths in a later class. \n",
                "2. `os.path.join` is a function that will allow you to create file paths \n",
                "that can run on any machine (mac, windows or Linux). It is a good practice\n",
                "to use this when creating file paths in `Python`. \n",
                "****\n",
                "</div>\n",
                "\n",
                "**IMPORTANT: At the end of your cell below be sure to call the name of your dataframe\n",
                "so that the dataframe prints in your notebook. If you don't do this, the test below\n",
                "will fail.**\n"
            ]
        },
        {
            "cell_type": "code",
            "execution_count": 4,
            "metadata": {
                "deletable": false,
                "nbgrader": {
                    "cell_type": "code",
                    "checksum": "7f6066845e448730c74361de54ebb9c3",
                    "grade": false,
                    "grade_id": "student-calc-variables-answer",
                    "locked": false,
                    "schema_version": 3,
                    "solution": true,
                    "task": false
                }
            },
            "outputs": [
                {
                    "data": {
                        "text/html": [
                            "<div>\n",
                            "<style scoped>\n",
                            "    .dataframe tbody tr th:only-of-type {\n",
                            "        vertical-align: middle;\n",
                            "    }\n",
                            "\n",
                            "    .dataframe tbody tr th {\n",
                            "        vertical-align: top;\n",
                            "    }\n",
                            "\n",
                            "    .dataframe thead th {\n",
                            "        text-align: right;\n",
                            "    }\n",
                            "</style>\n",
                            "<table border=\"1\" class=\"dataframe\">\n",
                            "  <thead>\n",
                            "    <tr style=\"text-align: right;\">\n",
                            "      <th></th>\n",
                            "      <th>year</th>\n",
                            "      <th>total_fires</th>\n",
                            "      <th>mean_size_acres</th>\n",
                            "    </tr>\n",
                            "  </thead>\n",
                            "  <tbody>\n",
                            "    <tr>\n",
                            "      <th>0</th>\n",
                            "      <td>2000</td>\n",
                            "      <td>113</td>\n",
                            "      <td>2111.855752</td>\n",
                            "    </tr>\n",
                            "    <tr>\n",
                            "      <th>1</th>\n",
                            "      <td>2001</td>\n",
                            "      <td>149</td>\n",
                            "      <td>2224.775168</td>\n",
                            "    </tr>\n",
                            "    <tr>\n",
                            "      <th>2</th>\n",
                            "      <td>2002</td>\n",
                            "      <td>167</td>\n",
                            "      <td>2967.139521</td>\n",
                            "    </tr>\n",
                            "    <tr>\n",
                            "      <th>3</th>\n",
                            "      <td>2003</td>\n",
                            "      <td>210</td>\n",
                            "      <td>4816.137619</td>\n",
                            "    </tr>\n",
                            "    <tr>\n",
                            "      <th>4</th>\n",
                            "      <td>2004</td>\n",
                            "      <td>147</td>\n",
                            "      <td>1912.725102</td>\n",
                            "    </tr>\n",
                            "    <tr>\n",
                            "      <th>5</th>\n",
                            "      <td>2005</td>\n",
                            "      <td>171</td>\n",
                            "      <td>1404.873099</td>\n",
                            "    </tr>\n",
                            "    <tr>\n",
                            "      <th>6</th>\n",
                            "      <td>2006</td>\n",
                            "      <td>235</td>\n",
                            "      <td>3366.323787</td>\n",
                            "    </tr>\n",
                            "    <tr>\n",
                            "      <th>7</th>\n",
                            "      <td>2007</td>\n",
                            "      <td>160</td>\n",
                            "      <td>6394.186000</td>\n",
                            "    </tr>\n",
                            "    <tr>\n",
                            "      <th>8</th>\n",
                            "      <td>2008</td>\n",
                            "      <td>281</td>\n",
                            "      <td>5014.638790</td>\n",
                            "    </tr>\n",
                            "    <tr>\n",
                            "      <th>9</th>\n",
                            "      <td>2009</td>\n",
                            "      <td>120</td>\n",
                            "      <td>3668.978333</td>\n",
                            "    </tr>\n",
                            "    <tr>\n",
                            "      <th>10</th>\n",
                            "      <td>2010</td>\n",
                            "      <td>94</td>\n",
                            "      <td>1137.134149</td>\n",
                            "    </tr>\n",
                            "    <tr>\n",
                            "      <th>11</th>\n",
                            "      <td>2011</td>\n",
                            "      <td>139</td>\n",
                            "      <td>1257.552590</td>\n",
                            "    </tr>\n",
                            "    <tr>\n",
                            "      <th>12</th>\n",
                            "      <td>2012</td>\n",
                            "      <td>127</td>\n",
                            "      <td>5898.718268</td>\n",
                            "    </tr>\n",
                            "    <tr>\n",
                            "      <th>13</th>\n",
                            "      <td>2013</td>\n",
                            "      <td>122</td>\n",
                            "      <td>4609.529098</td>\n",
                            "    </tr>\n",
                            "    <tr>\n",
                            "      <th>14</th>\n",
                            "      <td>2014</td>\n",
                            "      <td>90</td>\n",
                            "      <td>5954.896667</td>\n",
                            "    </tr>\n",
                            "    <tr>\n",
                            "      <th>15</th>\n",
                            "      <td>2015</td>\n",
                            "      <td>132</td>\n",
                            "      <td>6327.956288</td>\n",
                            "    </tr>\n",
                            "  </tbody>\n",
                            "</table>\n",
                            "</div>"
                        ],
                        "text/plain": [
                            "    year  total_fires  mean_size_acres\n",
                            "0   2000          113      2111.855752\n",
                            "1   2001          149      2224.775168\n",
                            "2   2002          167      2967.139521\n",
                            "3   2003          210      4816.137619\n",
                            "4   2004          147      1912.725102\n",
                            "5   2005          171      1404.873099\n",
                            "6   2006          235      3366.323787\n",
                            "7   2007          160      6394.186000\n",
                            "8   2008          281      5014.638790\n",
                            "9   2009          120      3668.978333\n",
                            "10  2010           94      1137.134149\n",
                            "11  2011          139      1257.552590\n",
                            "12  2012          127      5898.718268\n",
                            "13  2013          122      4609.529098\n",
                            "14  2014           90      5954.896667\n",
                            "15  2015          132      6327.956288"
                        ]
                    },
                    "execution_count": 4,
                    "metadata": {},
                    "output_type": "execute_result"
                }
            ],
            "source": [
                "# YOUR CODE HERE\n",
                "\n",
                "# Download fire data\n",
                "et.data.get_data(url=\"https://ndownloader.figshare.com/files/24649844\")\n",
                "\n",
                "# Set working directory to earth-analytics \n",
                "os.chdir(os.path.join(et.io.HOME, 'earth-analytics', 'data'))\n",
                "\n",
                "# Open up your csv file using pandas\n",
                "# Set file path to fire data\n",
                "fire_data_path = os.path.join(\"earthpy-downloads\", \"usda-fire-data.csv\")\n",
                "\n",
                "# Open fire data\n",
                "fire_data_csv = pd.read_csv(fire_data_path)\n",
                "\n",
                "fire_data_csv"
            ]
        },
        {
            "cell_type": "code",
            "execution_count": 5,
            "metadata": {
                "deletable": false,
                "editable": false,
                "nbgrader": {
                    "cell_type": "code",
                    "checksum": "dbee5b346f14a3bb19978a378a6542cb",
                    "grade": true,
                    "grade_id": "cell-88216175aad7e6af",
                    "locked": true,
                    "points": 5,
                    "schema_version": 3,
                    "solution": false,
                    "task": false
                }
            },
            "outputs": [],
            "source": [
                "# DO NOT MODIFY THIS CELL"
            ]
        },
        {
            "cell_type": "markdown",
            "metadata": {
                "deletable": false,
                "editable": false,
                "nbgrader": {
                    "cell_type": "markdown",
                    "checksum": "d315a4a200112820c08b4a290be9545f",
                    "grade": false,
                    "grade_id": "cell-eee5b3c3d5a8bcaf",
                    "locked": true,
                    "schema_version": 3,
                    "solution": false,
                    "task": false
                }
            },
            "source": [
                "<img style=\"float: left;\" src=\"colored-bar.png\"/>"
            ]
        },
        {
            "cell_type": "markdown",
            "metadata": {
                "deletable": false,
                "editable": false,
                "nbgrader": {
                    "cell_type": "markdown",
                    "checksum": "bf8591772a3aa1473880bb01dc35bf8e",
                    "grade": false,
                    "grade_id": "cell-2efe06277b8687bb",
                    "locked": true,
                    "schema_version": 3,
                    "solution": false,
                    "task": false
                }
            },
            "source": [
                "\n",
                "<div class=\"alert-info\" markdown=\"1\">\n",
                "\n",
                "## Create a Bar Plot of Total Fires (15 points)\n",
                "\n",
                "Create a plot with total fires on the y-axis and year on the x-axis. \n",
                "\n",
                "There are several ways to create a bar plot using matplotlib.\n",
                "Below, create a bar plot using the following approach:\n",
                "\n",
                "```\n",
                "ax.bar(x=data_frame_name.year,\n",
                "       height=data_frame_name.size_column_name)\n",
                "```\n",
                "Modify the plot as follows:\n",
                "\n",
                "* Add a title, x and y label using the same approach that you used in last week's homework assignment. \n",
                "* Change the **color** of the bars on the plot\n",
                "* Change the **edgecolor** of the bars on the plot\n",
                "</div>"
            ]
        },
        {
            "cell_type": "code",
            "execution_count": 6,
            "metadata": {
                "deletable": false,
                "nbgrader": {
                    "cell_type": "code",
                    "checksum": "635cb954a0a3bb667f3d1a7f54859aa9",
                    "grade": false,
                    "grade_id": "cell-9e056c059ce77146",
                    "locked": false,
                    "schema_version": 3,
                    "solution": true,
                    "task": false
                }
            },
            "outputs": [
                {
                    "data": {
                        "image/png": "[encoded data removed]",
                        "text/plain": [
                            "<Figure size 432x288 with 1 Axes>"
                        ]
                    },
                    "metadata": {
                        "needs_background": "light"
                    },
                    "output_type": "display_data"
                }
            ],
            "source": [
                "# YOUR CODE HERE\n",
                "# Create fire data figure\n",
                "fig, ax = plt.subplots()\n",
                "\n",
                "# Create bar graph\n",
                "ax.bar(x = fire_data_csv.year,\n",
                "      height = fire_data_csv.mean_size_acres,\n",
                "      color = \"orange\",\n",
                "      edgecolor = \"black\")\n",
                "\n",
                "# Add bar graph labels\n",
                "ax.set(title = \"Average Annual Fire Size\",\n",
                "       xlabel = \"Year\",\n",
                "       ylabel = \"Mean Size (Acres)\"\n",
                "      )\n",
                "\n",
                "### DO NOT MODIFY LINE BELOW###\n",
                "student_plot1_ax = nb.convert_axes(plt)"
            ]
        },
        {
            "cell_type": "code",
            "execution_count": 7,
            "metadata": {
                "deletable": false,
                "editable": false,
                "nbgrader": {
                    "cell_type": "code",
                    "checksum": "53d84f99441d1ca1bb2fe6d17c96f0c1",
                    "grade": true,
                    "grade_id": "cell-b1723ed67a2dd10c",
                    "locked": true,
                    "points": 15,
                    "schema_version": 3,
                    "solution": false,
                    "task": false
                }
            },
            "outputs": [],
            "source": [
                "# DO NOT MODIFY THIS CELL\n"
            ]
        },
        {
            "cell_type": "markdown",
            "metadata": {
                "deletable": false,
                "editable": false,
                "nbgrader": {
                    "cell_type": "markdown",
                    "checksum": "987720ba77a593ddd811e0edfb43ad98",
                    "grade": false,
                    "grade_id": "cell-12825aa50ab46983",
                    "locked": true,
                    "schema_version": 3,
                    "solution": false,
                    "task": false
                }
            },
            "source": [
                "<img style=\"float: left;\" src=\"colored-bar.png\"/>"
            ]
        },
        {
            "cell_type": "markdown",
            "metadata": {
                "deletable": false,
                "editable": false,
                "nbgrader": {
                    "cell_type": "markdown",
                    "checksum": "91c296dd6f0712495e139e5b0372c29d",
                    "grade": false,
                    "grade_id": "cell-344d690c87cf58bf",
                    "locked": true,
                    "schema_version": 3,
                    "solution": false,
                    "task": false
                }
            },
            "source": [
                "<div class=\"alert-info\" markdown=\"1\">\n",
                "\n",
                "## Create a Bar Plot Using Pandas of Total Fires (12 points)\n",
                "\n",
                "Above you created a plot using a core matplotlib approach. You can also \n",
                "plot using the pandas method `data_Frame.plot()`. This approach will have \n",
                "some limitations as you begin to plot more complex data sets but \n",
                "it is useful for you to see how it works. \n",
                "\n",
                "```python\n",
                "data_frame.plot(x=\"x-axis-column-header\",\n",
                "               y=\"y-axis-column-header\", \n",
                "               kind=\"type-of-plot-here\",\n",
                "               title=\"title-here\")\n",
                "\n",
                "```\n",
                "When using `.plot()` you can also set the edgecolor and color attributes\n",
                "just like you did using core matplotlib. \n",
                "\n",
                "Below, create a plot using `data_frame.plot()` using the same title, \n",
                "axis labels and colors that you did above.\n",
                "****\n",
                "</div>"
            ]
        },
        {
            "cell_type": "code",
            "execution_count": 8,
            "metadata": {
                "deletable": false,
                "nbgrader": {
                    "cell_type": "code",
                    "checksum": "91b9c453a0e441ea6527821d31eaa8ff",
                    "grade": false,
                    "grade_id": "cell-58fb56e50ab7c596",
                    "locked": false,
                    "schema_version": 3,
                    "solution": true,
                    "task": false
                }
            },
            "outputs": [
                {
                    "data": {
                        "image/png": "[encoded data removed]",
                        "text/plain": [
                            "<Figure size 432x288 with 1 Axes>"
                        ]
                    },
                    "metadata": {
                        "needs_background": "light"
                    },
                    "output_type": "display_data"
                }
            ],
            "source": [
                "# Create bar graph using pandas\n",
                "fire_data_csv.plot(x=\"year\",\n",
                "               y=\"mean_size_acres\", \n",
                "               kind=\"bar\",\n",
                "               title=\"Average Annual Fire Size (Acres)\")\n",
                "\n",
                "### DO NOT MODIFY LINE BELOW###\n",
                "student_plot2_ax = nb.convert_axes(plt)"
            ]
        },
        {
            "cell_type": "code",
            "execution_count": 9,
            "metadata": {
                "deletable": false,
                "editable": false,
                "nbgrader": {
                    "cell_type": "code",
                    "checksum": "a33381165b40d7cdbf2007d8aa698407",
                    "grade": true,
                    "grade_id": "cell-2864d6f083da04d2",
                    "locked": true,
                    "points": 12,
                    "schema_version": 3,
                    "solution": false,
                    "task": false
                }
            },
            "outputs": [],
            "source": [
                "# DO NOT MODIFY THIS CELL\n"
            ]
        },
        {
            "cell_type": "markdown",
            "metadata": {
                "deletable": false,
                "editable": false,
                "nbgrader": {
                    "cell_type": "markdown",
                    "checksum": "7a34cc7bd5c4f96f2306356ea8717390",
                    "grade": false,
                    "grade_id": "cell-df8769e3b0b98c2c",
                    "locked": true,
                    "schema_version": 3,
                    "solution": false,
                    "task": false
                }
            },
            "source": [
                "<img style=\"float: left;\" src=\"colored-bar.png\"/>"
            ]
        },
        {
            "cell_type": "markdown",
            "metadata": {
                "deletable": false,
                "editable": false,
                "nbgrader": {
                    "cell_type": "markdown",
                    "checksum": "cb94ed4273c862d8ffbc26de02a115dc",
                    "grade": false,
                    "grade_id": "question-create-mean-fire-size",
                    "locked": true,
                    "schema_version": 3,
                    "solution": false,
                    "task": false
                }
            },
            "source": [
                "<div class=\"alert-info\" markdown=\"1\">\n",
                "\n",
                "## Create Column Containing Mean Fire Size in Hectares (10 Points)\n",
                "\n",
                "Above, you imported some data which contains a column for mean \n",
                "fire size in acres. For your analysis, you want the data to be in hectares. Do the following\n",
                "\n",
                "1. Create a variable that contains the value to convert acres to hectares\n",
                "\n",
                "HINT: `1 acre = 0.404686 hectares`\n",
                "\n",
                "2. You can create a new column in a pandas data frame using the following syntax:\n",
                "\n",
                "`df[\"new_col_name\"] = df[\"existing_col_name\"] * conversion_value_here`\n",
                "\n",
                "Create a new column called `mean_size_hectares` in your data frame that contains the mean fire size values converted to hectares.\n",
                "\n",
                "****\n",
                "</div>\n",
                "    \n",
                "**IMPORTANT: At the end of your cell below be sure to call the name of your dataframe\n",
                "so that the dataframe prints in your notebook. If you don't do this, the test below\n",
                "will fail.**"
            ]
        },
        {
            "cell_type": "code",
            "execution_count": 10,
            "metadata": {
                "deletable": false,
                "nbgrader": {
                    "cell_type": "code",
                    "checksum": "2f49125680b9e25e31c0b1eab7abdd28",
                    "grade": false,
                    "grade_id": "student-create-list-mean-fire-size-answer",
                    "locked": false,
                    "schema_version": 3,
                    "solution": true,
                    "task": false
                }
            },
            "outputs": [
                {
                    "data": {
                        "text/html": [
                            "<div>\n",
                            "<style scoped>\n",
                            "    .dataframe tbody tr th:only-of-type {\n",
                            "        vertical-align: middle;\n",
                            "    }\n",
                            "\n",
                            "    .dataframe tbody tr th {\n",
                            "        vertical-align: top;\n",
                            "    }\n",
                            "\n",
                            "    .dataframe thead th {\n",
                            "        text-align: right;\n",
                            "    }\n",
                            "</style>\n",
                            "<table border=\"1\" class=\"dataframe\">\n",
                            "  <thead>\n",
                            "    <tr style=\"text-align: right;\">\n",
                            "      <th></th>\n",
                            "      <th>year</th>\n",
                            "      <th>total_fires</th>\n",
                            "      <th>mean_size_acres</th>\n",
                            "      <th>mean_size_hectares</th>\n",
                            "    </tr>\n",
                            "  </thead>\n",
                            "  <tbody>\n",
                            "    <tr>\n",
                            "      <th>0</th>\n",
                            "      <td>2000</td>\n",
                            "      <td>113</td>\n",
                            "      <td>2111.855752</td>\n",
                            "      <td>854.638457</td>\n",
                            "    </tr>\n",
                            "    <tr>\n",
                            "      <th>1</th>\n",
                            "      <td>2001</td>\n",
                            "      <td>149</td>\n",
                            "      <td>2224.775168</td>\n",
                            "      <td>900.335364</td>\n",
                            "    </tr>\n",
                            "    <tr>\n",
                            "      <th>2</th>\n",
                            "      <td>2002</td>\n",
                            "      <td>167</td>\n",
                            "      <td>2967.139521</td>\n",
                            "      <td>1200.759824</td>\n",
                            "    </tr>\n",
                            "    <tr>\n",
                            "      <th>3</th>\n",
                            "      <td>2003</td>\n",
                            "      <td>210</td>\n",
                            "      <td>4816.137619</td>\n",
                            "      <td>1949.023468</td>\n",
                            "    </tr>\n",
                            "    <tr>\n",
                            "      <th>4</th>\n",
                            "      <td>2004</td>\n",
                            "      <td>147</td>\n",
                            "      <td>1912.725102</td>\n",
                            "      <td>774.053071</td>\n",
                            "    </tr>\n",
                            "    <tr>\n",
                            "      <th>5</th>\n",
                            "      <td>2005</td>\n",
                            "      <td>171</td>\n",
                            "      <td>1404.873099</td>\n",
                            "      <td>568.532475</td>\n",
                            "    </tr>\n",
                            "    <tr>\n",
                            "      <th>6</th>\n",
                            "      <td>2006</td>\n",
                            "      <td>235</td>\n",
                            "      <td>3366.323787</td>\n",
                            "      <td>1362.304108</td>\n",
                            "    </tr>\n",
                            "    <tr>\n",
                            "      <th>7</th>\n",
                            "      <td>2007</td>\n",
                            "      <td>160</td>\n",
                            "      <td>6394.186000</td>\n",
                            "      <td>2587.637556</td>\n",
                            "    </tr>\n",
                            "    <tr>\n",
                            "      <th>8</th>\n",
                            "      <td>2008</td>\n",
                            "      <td>281</td>\n",
                            "      <td>5014.638790</td>\n",
                            "      <td>2029.354113</td>\n",
                            "    </tr>\n",
                            "    <tr>\n",
                            "      <th>9</th>\n",
                            "      <td>2009</td>\n",
                            "      <td>120</td>\n",
                            "      <td>3668.978333</td>\n",
                            "      <td>1484.784166</td>\n",
                            "    </tr>\n",
                            "    <tr>\n",
                            "      <th>10</th>\n",
                            "      <td>2010</td>\n",
                            "      <td>94</td>\n",
                            "      <td>1137.134149</td>\n",
                            "      <td>460.182270</td>\n",
                            "    </tr>\n",
                            "    <tr>\n",
                            "      <th>11</th>\n",
                            "      <td>2011</td>\n",
                            "      <td>139</td>\n",
                            "      <td>1257.552590</td>\n",
                            "      <td>508.913927</td>\n",
                            "    </tr>\n",
                            "    <tr>\n",
                            "      <th>12</th>\n",
                            "      <td>2012</td>\n",
                            "      <td>127</td>\n",
                            "      <td>5898.718268</td>\n",
                            "      <td>2387.128701</td>\n",
                            "    </tr>\n",
                            "    <tr>\n",
                            "      <th>13</th>\n",
                            "      <td>2013</td>\n",
                            "      <td>122</td>\n",
                            "      <td>4609.529098</td>\n",
                            "      <td>1865.411893</td>\n",
                            "    </tr>\n",
                            "    <tr>\n",
                            "      <th>14</th>\n",
                            "      <td>2014</td>\n",
                            "      <td>90</td>\n",
                            "      <td>5954.896667</td>\n",
                            "      <td>2409.863313</td>\n",
                            "    </tr>\n",
                            "    <tr>\n",
                            "      <th>15</th>\n",
                            "      <td>2015</td>\n",
                            "      <td>132</td>\n",
                            "      <td>6327.956288</td>\n",
                            "      <td>2560.835318</td>\n",
                            "    </tr>\n",
                            "  </tbody>\n",
                            "</table>\n",
                            "</div>"
                        ],
                        "text/plain": [
                            "    year  total_fires  mean_size_acres  mean_size_hectares\n",
                            "0   2000          113      2111.855752          854.638457\n",
                            "1   2001          149      2224.775168          900.335364\n",
                            "2   2002          167      2967.139521         1200.759824\n",
                            "3   2003          210      4816.137619         1949.023468\n",
                            "4   2004          147      1912.725102          774.053071\n",
                            "5   2005          171      1404.873099          568.532475\n",
                            "6   2006          235      3366.323787         1362.304108\n",
                            "7   2007          160      6394.186000         2587.637556\n",
                            "8   2008          281      5014.638790         2029.354113\n",
                            "9   2009          120      3668.978333         1484.784166\n",
                            "10  2010           94      1137.134149          460.182270\n",
                            "11  2011          139      1257.552590          508.913927\n",
                            "12  2012          127      5898.718268         2387.128701\n",
                            "13  2013          122      4609.529098         1865.411893\n",
                            "14  2014           90      5954.896667         2409.863313\n",
                            "15  2015          132      6327.956288         2560.835318"
                        ]
                    },
                    "execution_count": 10,
                    "metadata": {},
                    "output_type": "execute_result"
                }
            ],
            "source": [
                "# Variable for acre to hectare conversion\n",
                "acre_to_hectare = 0.404686\n",
                "\n",
                "# Add new column converted to hectares\n",
                "fire_data_csv[\"mean_size_hectares\"] = fire_data_csv[\"mean_size_acres\"] * acre_to_hectare\n",
                "\n",
                "fire_data_csv\n"
            ]
        },
        {
            "cell_type": "code",
            "execution_count": 11,
            "metadata": {
                "deletable": false,
                "editable": false,
                "nbgrader": {
                    "cell_type": "code",
                    "checksum": "ac4eac1a289ac238bedf6c28deed1dc5",
                    "grade": true,
                    "grade_id": "cell-e51c3234899611b8",
                    "locked": true,
                    "points": 5,
                    "schema_version": 3,
                    "solution": false,
                    "task": false
                }
            },
            "outputs": [
                {
                    "name": "stdout",
                    "output_type": "stream",
                    "text": [
                        "Great - you have added the mean_size_hectares_column. Great job! You get 5 / 5 points for this task\n"
                    ]
                },
                {
                    "data": {
                        "text/plain": [
                            "5"
                        ]
                    },
                    "execution_count": 11,
                    "metadata": {},
                    "output_type": "execute_result"
                }
            ],
            "source": [
                "# DO NOT MODIFY THIS CELL\n",
                "\n",
                "# Testing that the proper column has been added to the dataframe\n",
                "\n",
                "student_data_2 = _\n",
                "dataframe_2_answer_points = 0\n",
                "\n",
                "if \"mean_size_hectares\" in student_data_2.columns.tolist():\n",
                "    print(\"Great - you have added the mean_size_hectares_column. Great job! You get 5 / 5 points for this task\")\n",
                "    dataframe_2_answer_points += 5\n",
                "else:\n",
                "    print(\"Oops - you should have a column called mean_size_hectares in your data frame. Make sure you added and named the column correctly.\")\n",
                "    \n",
                "dataframe_2_answer_points"
            ]
        },
        {
            "cell_type": "code",
            "execution_count": 12,
            "metadata": {
                "deletable": false,
                "editable": false,
                "nbgrader": {
                    "cell_type": "code",
                    "checksum": "435a70e5a55789094b3f989c646b1f49",
                    "grade": true,
                    "grade_id": "cell-3fcf23027d317265",
                    "locked": true,
                    "points": 5,
                    "schema_version": 3,
                    "solution": false,
                    "task": false
                }
            },
            "outputs": [],
            "source": [
                "# DO NOT MODIFY THIS CELL\n"
            ]
        },
        {
            "cell_type": "markdown",
            "metadata": {
                "deletable": false,
                "editable": false,
                "nbgrader": {
                    "cell_type": "markdown",
                    "checksum": "288ba9a79a6eceb9113bb7c8e79413ae",
                    "grade": false,
                    "grade_id": "question-plot",
                    "locked": true,
                    "schema_version": 3,
                    "solution": false
                }
            },
            "source": [
                "<div class=\"alert-info\" markdown=\"1\">\n",
                "\n",
                "## Create A Figure with Subplots (Multi-plot Figure - 20 points)\n",
                "\n",
                "Above you experimented with plotting using both Pandas `.plot()` and \n",
                "matplotlib `.bar()`. In the cell below create a Figure that contains\n",
                "two subplots:\n",
                "\n",
                "* Plot 1: Create a bar plot that shows total number of fires by year\n",
                "* Plot 2: Create a scatter plot that shows the mean fire size in hectares by year\n",
                "\n",
                "For each plot do the following:\n",
                "\n",
                "* Modify the default plot colors\n",
                "* Add a title, and x and y axis labels\n",
                "\n",
                "For the figure:\n",
                "* Add an overall title for the entire figure\n",
                "\n",
                "When adding your titles and labels, think about the following pieces of information that could help someone easily interpret the plot:\n",
                "* geographic coverage or extent of data.\n",
                "* duration or temporal extent of the data.\n",
                "* what was actually measured and/or represented by the data.\n",
                "* units of measurement.\n",
                "****\n",
                "</div>"
            ]
        },
        {
            "cell_type": "code",
            "execution_count": 13,
            "metadata": {
                "deletable": false,
                "nbgrader": {
                    "cell_type": "code",
                    "checksum": "a094174ee0be2dc4ddbd75ae4b8c63d8",
                    "grade": false,
                    "grade_id": "student-create-plot-1-answer",
                    "locked": false,
                    "schema_version": 3,
                    "solution": true,
                    "task": false
                }
            },
            "outputs": [
                {
                    "data": {
                        "image/png": "[encoded data removed]",
                        "text/plain": [
                            "<Figure size 1008x432 with 2 Axes>"
                        ]
                    },
                    "metadata": {
                        "needs_background": "light"
                    },
                    "output_type": "display_data"
                },
                {
                    "data": {
                        "text/plain": [
                            "<Figure size 432x288 with 0 Axes>"
                        ]
                    },
                    "metadata": {},
                    "output_type": "display_data"
                }
            ],
            "source": [
                "# Create a figure with 2 axis's - 1 row, 2 columns\n",
                "fig, (ax1, ax2) = plt.subplots(1,2, figsize = (14,6))\n",
                "\n",
                "fig.suptitle(\"Average Annual Fire Size & Frequency\", fontsize = 16)\n",
                "\n",
                "# Create bar graph for total fires per year\n",
                "ax1.bar(x = fire_data_csv.year,\n",
                "      height = fire_data_csv.total_fires,\n",
                "      color = \"orange\",\n",
                "      edgecolor = \"black\")\n",
                "\n",
                "# Add bar graph labels\n",
                "ax1.set(title = \"Annual Total Fires\",\n",
                "       xlabel = \"Year\",\n",
                "       ylabel = \"Total Fires\"\n",
                "      )\n",
                "\n",
                "# Create scatter plot showing mean size fires in hectares per year\n",
                "ax2.scatter(x = fire_data_csv.year,\n",
                "           y = fire_data_csv.mean_size_hectares,\n",
                "           color = \"orange\",\n",
                "            edgecolor = \"black\")\n",
                "\n",
                "# Add scatter plot labels\n",
                "ax2.set(title = \"Average Annual Fire Size\",\n",
                "       xlabel = \"Year\",\n",
                "       ylabel = \"Fire Size (hectares)\")\n",
                "\n",
                "plt.show()\n",
                "\n",
                "\n",
                "### DO NOT REMOVE LINE BELOW ###\n",
                "ts_plot_axes = nb.convert_axes(plt, which_axes=\"all\")"
            ]
        },
        {
            "cell_type": "code",
            "execution_count": 14,
            "metadata": {
                "deletable": false,
                "editable": false,
                "nbgrader": {
                    "cell_type": "code",
                    "checksum": "f0984a68cce6dbf12fe8b10893c2a83d",
                    "grade": true,
                    "grade_id": "hidden-plot-tests",
                    "locked": true,
                    "points": 20,
                    "schema_version": 3,
                    "solution": false
                }
            },
            "outputs": [],
            "source": [
                "# DO NOT MODIFY THIS CELL!"
            ]
        },
        {
            "cell_type": "markdown",
            "metadata": {
                "deletable": false,
                "editable": false,
                "nbgrader": {
                    "cell_type": "markdown",
                    "checksum": "58ab852cf1501e48e193469ed44164e7",
                    "grade": false,
                    "grade_id": "question-explain-plot",
                    "locked": true,
                    "schema_version": 3,
                    "solution": false
                }
            },
            "source": [
                "## Explain Your Plot\n",
                "\n",
                "In the Markdown cell below, answer the following questions about your plot using a **bullet list**.\n",
                "\n",
                "1.  Why did you choose the styles and colors for the data being represented in each subplot? \n",
                "\n",
                "2. Do either the yearly total number of fires or average size of fires appear to be increasing over time in California? Explain your answer using the patterns that you see in the plotplot.\n",
                "\n",
                "3. What additional data might help you to better answer the first question about whether number of fires or average fire size appear to increasing? (It could help to take a look at the information about the original dataset from <a href=\"https://www.fs.usda.gov/rds/archive/Product/RDS-2013-0009.4/\" target=\"_blank\">the United States Forest Service</a>.)\n",
                "\n",
                "Remove any existing text in the cell below before adding your answer."
            ]
        },
        {
            "cell_type": "markdown",
            "metadata": {
                "deletable": false,
                "nbgrader": {
                    "cell_type": "markdown",
                    "checksum": "e3095dc5237140f12d38b07379527fd7",
                    "grade": true,
                    "grade_id": "student-explain-plot-answer",
                    "locked": false,
                    "points": 9,
                    "schema_version": 3,
                    "solution": true
                }
            },
            "source": [
                "\n",
                "\n",
                "* blablabla\n",
                "* blablabla"
            ]
        },
        {
            "cell_type": "markdown",
            "metadata": {
                "deletable": false,
                "editable": false,
                "nbgrader": {
                    "cell_type": "markdown",
                    "checksum": "2d20b944d8b3fc7fd74eacf85e0b5212",
                    "grade": false,
                    "grade_id": "question-explain-pep-8",
                    "locked": true,
                    "schema_version": 3,
                    "solution": false,
                    "task": false
                }
            },
            "source": [
                "## Discuss Your Workflow\n",
                "\n",
                "In the Markdown cell below, answer the following questions using a **numbered list**:\n",
                "\n",
                "Consider the variable name that you used for your pandas dataframe. Explain why it is expressive (or not).\n",
                "\n",
                "Remove any existing text in the cell below before adding your answer."
            ]
        },
        {
            "cell_type": "markdown",
            "metadata": {
                "deletable": false,
                "nbgrader": {
                    "cell_type": "markdown",
                    "checksum": "7a66815bf18d4c139714e072691069cb",
                    "grade": true,
                    "grade_id": "student-explain-pep-8",
                    "locked": false,
                    "points": 5,
                    "schema_version": 3,
                    "solution": true,
                    "task": false
                }
            },
            "source": [
                "YOUR ANSWER HERE"
            ]
        },
        {
            "cell_type": "markdown",
            "metadata": {
                "deletable": false,
                "editable": false,
                "nbgrader": {
                    "cell_type": "markdown",
                    "checksum": "593a5e92f7d09846438251309cdc1c42",
                    "grade": false,
                    "grade_id": "jupyter-notebook-style",
                    "locked": true,
                    "points": 20,
                    "schema_version": 3,
                    "solution": false,
                    "task": true
                }
            },
            "source": [
                "### Points for Overall Notebook\n",
                "\n",
                "DO NOT MODIFY THIS CELL. \n",
                "Your instructor will use this cell to give you points for the following - \n",
                "5 points for each item below (20 points total):\n",
                "\n",
                "- The notebook runs from start to finish and starts at [1]\n",
                "- PEP 8 format compliance\n",
                "- Expressive clean code\n",
                "- Spelling & careful use of comments"
            ]
        }
    ],
    "metadata": {
        "kernelspec": {
            "display_name": "Python 3 (ipykernel)",
            "language": "python",
            "name": "python3"
        },
        "language_info": {
            "codemirror_mode": {
                "name": "ipython",
                "version": 3
            },
            "file_extension": ".py",
            "mimetype": "text/x-python",
            "name": "python",
            "nbconvert_exporter": "python",
            "pygments_lexer": "ipython3",
            "version": "3.8.12"
        },
        "toc": {
            "base_numbering": 1,
            "nav_menu": {},
            "number_sections": true,
            "sideBar": true,
            "skip_h1_title": true,
            "title_cell": "Table of Contents",
            "title_sidebar": "Contents",
            "toc_cell": false,
            "toc_position": {},
            "toc_section_display": true,
            "toc_window_display": true
        },
        "varInspector": {
            "cols": {
                "lenName": 16,
                "lenType": 16,
                "lenVar": 40
            },
            "kernels_config": {
                "python": {
                    "delete_cmd_postfix": "",
                    "delete_cmd_prefix": "del ",
                    "library": "var_list.py",
                    "varRefreshCmd": "print(var_dic_list())"
                },
                "r": {
                    "delete_cmd_postfix": ") ",
                    "delete_cmd_prefix": "rm(",
                    "library": "var_list.r",
                    "varRefreshCmd": "cat(var_dic_list()) "
                }
            },
            "types_to_exclude": [
                "module",
                "function",
                "builtin_function_or_method",
                "instance",
                "_Feature"
            ],
            "window_display": false
        }
    },
    "nbformat": 4,
    "nbformat_minor": 2
}
